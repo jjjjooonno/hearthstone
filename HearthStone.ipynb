{
 "cells": [
  {
   "cell_type": "code",
   "execution_count": 1,
   "metadata": {
    "collapsed": true
   },
   "outputs": [],
   "source": [
    "from selenium import webdriver\n",
    "from bs4 import BeautifulSoup\n",
    "from pandas import DataFrame\n",
    "import re"
   ]
  },
  {
   "cell_type": "code",
   "execution_count": 2,
   "metadata": {
    "collapsed": true
   },
   "outputs": [],
   "source": [
    "dr = webdriver.Chrome('/Users/joono/Downloads/chromedriver')\n",
    "dr.implicitly_wait(1000)"
   ]
  },
  {
   "cell_type": "code",
   "execution_count": 3,
   "metadata": {
    "collapsed": true
   },
   "outputs": [],
   "source": [
    "name = []\n",
    "rank = []\n",
    "hs_class = []\n",
    "species = []\n",
    "cost = []\n",
    "attack = []\n",
    "life = []\n",
    "abil = []"
   ]
  },
  {
   "cell_type": "code",
   "execution_count": 4,
   "metadata": {
    "collapsed": true
   },
   "outputs": [],
   "source": [
    "card = []\n",
    "dr.get('http://hs.inven.co.kr/dataninfo/card/detail.php?code=68')\n",
    "drt = dr.page_source\n",
    "soup = BeautifulSoup(drt,'html.parser')\n",
    "card.extend(soup.find_all('table'))\n",
    "name1 = soup.find('h2',attrs = {'class' : 'title710BR1'})\n",
    "name2 = str(name1).split('(')\n",
    "name3 = name2[0].split('-')\n",
    "name.append(name3[1].strip())\n",
    "cardeffect = str(card[0])\n",
    "cardtext = str(card[2]).split('\\n')"
   ]
  },
  {
   "cell_type": "code",
   "execution_count": 5,
   "metadata": {
    "collapsed": true
   },
   "outputs": [],
   "source": [
    "con = re.compile('[가-힣0-9]+')\n",
    "text = []\n",
    "for i in cardtext:\n",
    "    text.append(con.findall(i))\n",
    "text.append(con.findall(cardeffect))"
   ]
  },
  {
   "cell_type": "code",
   "execution_count": 6,
   "metadata": {
    "collapsed": true
   },
   "outputs": [],
   "source": [
    "rank.append(text[8][1])\n",
    "hs_class.append(text[11][1])\n",
    "species.append(text[12][-1])\n",
    "cost.append(text[16][1])\n",
    "attack.append(text[19][1])\n",
    "life.append(text[20][1])"
   ]
  },
  {
   "cell_type": "code",
   "execution_count": 7,
   "metadata": {
    "collapsed": true
   },
   "outputs": [],
   "source": [
    "dt = DataFrame({'Name': name, 'rank': rank, 'Hs_class': hs_class,\n",
    "                'Species': species, 'Cost': cost, 'Attack': attack, 'Life': life})"
   ]
  },
  {
   "cell_type": "code",
   "execution_count": 9,
   "metadata": {},
   "outputs": [
    {
     "data": {
      "text/html": [
       "<div>\n",
       "<style>\n",
       "    .dataframe thead tr:only-child th {\n",
       "        text-align: right;\n",
       "    }\n",
       "\n",
       "    .dataframe thead th {\n",
       "        text-align: left;\n",
       "    }\n",
       "\n",
       "    .dataframe tbody tr th {\n",
       "        vertical-align: top;\n",
       "    }\n",
       "</style>\n",
       "<table border=\"1\" class=\"dataframe\">\n",
       "  <thead>\n",
       "    <tr style=\"text-align: right;\">\n",
       "      <th></th>\n",
       "      <th>Attack</th>\n",
       "      <th>Cost</th>\n",
       "      <th>Hs_class</th>\n",
       "      <th>Life</th>\n",
       "      <th>Name</th>\n",
       "      <th>Species</th>\n",
       "      <th>rank</th>\n",
       "    </tr>\n",
       "  </thead>\n",
       "  <tbody>\n",
       "    <tr>\n",
       "      <th>0</th>\n",
       "      <td>5</td>\n",
       "      <td>5</td>\n",
       "      <td>중립</td>\n",
       "      <td>5</td>\n",
       "      <td>가시덤불 호랑이</td>\n",
       "      <td>야수</td>\n",
       "      <td>일반</td>\n",
       "    </tr>\n",
       "  </tbody>\n",
       "</table>\n",
       "</div>"
      ],
      "text/plain": [
       "  Attack Cost Hs_class Life      Name Species rank\n",
       "0      5    5       중립    5  가시덤불 호랑이      야수   일반"
      ]
     },
     "execution_count": 9,
     "metadata": {},
     "output_type": "execute_result"
    }
   ],
   "source": [
    "dt"
   ]
  },
  {
   "cell_type": "code",
   "execution_count": null,
   "metadata": {
    "collapsed": true
   },
   "outputs": [],
   "source": []
  },
  {
   "cell_type": "code",
   "execution_count": null,
   "metadata": {
    "collapsed": true
   },
   "outputs": [],
   "source": []
  }
 ],
 "metadata": {
  "kernelspec": {
   "display_name": "Python 3",
   "language": "python",
   "name": "python3"
  },
  "language_info": {
   "codemirror_mode": {
    "name": "ipython",
    "version": 3
   },
   "file_extension": ".py",
   "mimetype": "text/x-python",
   "name": "python",
   "nbconvert_exporter": "python",
   "pygments_lexer": "ipython3",
   "version": "3.6.2"
  }
 },
 "nbformat": 4,
 "nbformat_minor": 2
}
